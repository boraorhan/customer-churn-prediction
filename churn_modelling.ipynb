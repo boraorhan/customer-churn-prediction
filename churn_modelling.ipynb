{
 "cells": [
  {
   "cell_type": "code",
   "execution_count": 26,
   "id": "aa848faa",
   "metadata": {},
   "outputs": [
    {
     "name": "stdout",
     "output_type": "stream",
     "text": [
      "['CustomerID', 'Gender', 'SeniorCitizen', 'Partner', 'Dependents', 'Tenure', 'PhoneService', 'MultipleLines', 'InternetService', 'OnlineSecurity', 'OnlineBackup', 'DeviceProtection', 'TechSupport', 'StreamingTV', 'StreamingMovies', 'Contract', 'PaperlessBilling', 'PaymentMethod', 'MonthlyCharges', 'TotalCharges', 'Churn']\n"
     ]
    }
   ],
   "source": [
    "# 1. Import libraries\n",
    "import pandas as pd\n",
    "import numpy as np\n",
    "import seaborn as sns\n",
    "import matplotlib.pyplot as plt\n",
    "\n",
    "from sklearn.model_selection import train_test_split\n",
    "from sklearn.linear_model import LogisticRegression\n",
    "from sklearn.metrics import classification_report, confusion_matrix, accuracy_score\n",
    "from sklearn.preprocessing import LabelEncoder\n",
    "\n",
    "# 2. Load dataset\n",
    "df=pd.read_csv(\"/Users/bora/Desktop/Telco Churn_EDA/Telco_Churn_Data.csv\")\n",
    "print(df.columns.to_list())"
   ]
  },
  {
   "cell_type": "markdown",
   "id": "eed8e4b4",
   "metadata": {},
   "source": []
  },
  {
   "cell_type": "code",
   "execution_count": 27,
   "id": "6ec8811c",
   "metadata": {},
   "outputs": [
    {
     "name": "stdout",
     "output_type": "stream",
     "text": [
      "Final shape: (7042, 31)\n",
      "Sample columns: ['Gender', 'SeniorCitizen', 'Partner', 'Dependents', 'Tenure', 'PhoneService', 'PaperlessBilling', 'MonthlyCharges', 'TotalCharges', 'Churn'] ...\n"
     ]
    },
    {
     "name": "stderr",
     "output_type": "stream",
     "text": [
      "/var/folders/2b/l081x7654zn1bvyhb1nt2lww0000gn/T/ipykernel_49106/2524754406.py:8: FutureWarning: A value is trying to be set on a copy of a DataFrame or Series through chained assignment using an inplace method.\n",
      "The behavior will change in pandas 3.0. This inplace method will never work because the intermediate object on which we are setting values always behaves as a copy.\n",
      "\n",
      "For example, when doing 'df[col].method(value, inplace=True)', try using 'df.method({col: value}, inplace=True)' or df[col] = df[col].method(value) instead, to perform the operation inplace on the original object.\n",
      "\n",
      "\n",
      "  df[\"TotalCharges\"].fillna(df[\"TotalCharges\"].median(), inplace=True)\n"
     ]
    }
   ],
   "source": [
    "# 1. Drop the customerID column as it is a unique identifier and not useful for prediction\n",
    "df.drop(\"CustomerID\", axis=1, inplace=True)\n",
    "\n",
    "# 2. Convert TotalCharges to numeric\n",
    "df[\"TotalCharges\"]=pd.to_numeric(df[\"TotalCharges\"], errors=\"coerce\")\n",
    "\n",
    "# 3. Handle missing values in 'TotalCharges' with the column's median value\n",
    "df[\"TotalCharges\"].fillna(df[\"TotalCharges\"].median(), inplace=True)    \n",
    "\n",
    "# 4. Convert the targer variable 'Churn' from 'Yes/No' to binary 1/0\n",
    "df[\"Churn\"]= df[\"Churn\"].map({\"Yes\":1,\"No\":0})\n",
    "\n",
    "# 5. Label encode all binary categorical columns (columns with only two unique values)\n",
    "from sklearn.preprocessing import LabelEncoder\n",
    "\n",
    "le=LabelEncoder()\n",
    "binary_cols=[col for col in df.columns if df[col].nunique()==2 and df[col].dtype==\"object\"]\n",
    "for col in binary_cols:\n",
    "    df[col]=le.fit_transform(df[col])\n",
    "\n",
    "# 6. One-hot encode remaining non-binary categorical variables\n",
    "df=pd.get_dummies(df, drop_first=True)\n",
    "\n",
    "# 7. Display the final shape of the dataset and a few column names to confirm transformation\n",
    "print(\"Final shape:\", df.shape)\n",
    "print(\"Sample columns:\", df.columns.tolist()[:10], \"...\")"
   ]
  },
  {
   "cell_type": "code",
   "execution_count": 28,
   "id": "0195020e",
   "metadata": {},
   "outputs": [
    {
     "name": "stdout",
     "output_type": "stream",
     "text": [
      "Accuracy: 0.8055358410220014\n",
      "Confusion Matrix:\n",
      " [[927 118]\n",
      " [156 208]]\n",
      "Classification Report:\n",
      "               precision    recall  f1-score   support\n",
      "\n",
      "           0       0.86      0.89      0.87      1045\n",
      "           1       0.64      0.57      0.60       364\n",
      "\n",
      "    accuracy                           0.81      1409\n",
      "   macro avg       0.75      0.73      0.74      1409\n",
      "weighted avg       0.80      0.81      0.80      1409\n",
      "\n"
     ]
    }
   ],
   "source": [
    "# Define X (features) and y (target)\n",
    "X=df.drop(\"Churn\",axis=1)\n",
    "y=df[\"Churn\"]\n",
    "\n",
    "# 2. Split data into training and testing sets\n",
    "from sklearn.model_selection import train_test_split\n",
    "X_train, X_test, y_train, y_test=train_test_split(X,y, test_size=0.2, random_state=42)\n",
    "\n",
    "# 3. Build logistic regression model\n",
    "from sklearn.preprocessing import StandardScaler\n",
    "scaler = StandardScaler()\n",
    "X_train = scaler.fit_transform(X_train)\n",
    "X_test=scaler.transform(X_test)\n",
    "\n",
    "# 4. Train logistic regression model\n",
    "model=LogisticRegression(max_iter=3000)\n",
    "model.fit(X_train, y_train)\n",
    "\n",
    "# 5. Make predictions\n",
    "y_pred=model.predict(X_test)\n",
    "\n",
    "# 6. Evaluate the model\n",
    "from sklearn.metrics import accuracy_score, confusion_matrix, classification_report\n",
    "print(\"Accuracy:\", accuracy_score(y_test, y_pred))\n",
    "print(\"Confusion Matrix:\\n\", confusion_matrix(y_test, y_pred))\n",
    "print(\"Classification Report:\\n\", classification_report(y_test, y_pred))\n"
   ]
  },
  {
   "cell_type": "code",
   "execution_count": null,
   "id": "55d483d6",
   "metadata": {},
   "outputs": [],
   "source": []
  }
 ],
 "metadata": {
  "kernelspec": {
   "display_name": "Python 3",
   "language": "python",
   "name": "python3"
  },
  "language_info": {
   "codemirror_mode": {
    "name": "ipython",
    "version": 3
   },
   "file_extension": ".py",
   "mimetype": "text/x-python",
   "name": "python",
   "nbconvert_exporter": "python",
   "pygments_lexer": "ipython3",
   "version": "3.12.0"
  }
 },
 "nbformat": 4,
 "nbformat_minor": 5
}
